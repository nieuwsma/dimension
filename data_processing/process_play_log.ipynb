{
 "cells": [
  {
   "cell_type": "code",
   "execution_count": 1,
   "id": "initial_id",
   "metadata": {
    "collapsed": true,
    "ExecuteTime": {
     "end_time": "2023-08-24T22:30:00.115925Z",
     "start_time": "2023-08-24T22:29:59.307318Z"
    }
   },
   "outputs": [
    {
     "name": "stdout",
     "output_type": "stream",
     "text": [
      "Requirement already satisfied: pandas in /Users/anieuwsma/Library/Mobile Documents/com~apple~CloudDocs/repositories/dimension/venv/lib/python3.9/site-packages (2.0.3)\r\n",
      "Requirement already satisfied: openpyxl in /Users/anieuwsma/Library/Mobile Documents/com~apple~CloudDocs/repositories/dimension/venv/lib/python3.9/site-packages (3.1.2)\r\n",
      "Requirement already satisfied: python-dateutil>=2.8.2 in /Users/anieuwsma/Library/Mobile Documents/com~apple~CloudDocs/repositories/dimension/venv/lib/python3.9/site-packages (from pandas) (2.8.2)\r\n",
      "Requirement already satisfied: pytz>=2020.1 in /Users/anieuwsma/Library/Mobile Documents/com~apple~CloudDocs/repositories/dimension/venv/lib/python3.9/site-packages (from pandas) (2023.3)\r\n",
      "Requirement already satisfied: tzdata>=2022.1 in /Users/anieuwsma/Library/Mobile Documents/com~apple~CloudDocs/repositories/dimension/venv/lib/python3.9/site-packages (from pandas) (2023.3)\r\n",
      "Requirement already satisfied: numpy>=1.20.3 in /Users/anieuwsma/Library/Mobile Documents/com~apple~CloudDocs/repositories/dimension/venv/lib/python3.9/site-packages (from pandas) (1.25.2)\r\n",
      "Requirement already satisfied: et-xmlfile in /Users/anieuwsma/Library/Mobile Documents/com~apple~CloudDocs/repositories/dimension/venv/lib/python3.9/site-packages (from openpyxl) (1.1.0)\r\n",
      "Requirement already satisfied: six>=1.5 in /Users/anieuwsma/Library/Mobile Documents/com~apple~CloudDocs/repositories/dimension/venv/lib/python3.9/site-packages (from python-dateutil>=2.8.2->pandas) (1.16.0)\r\n"
     ]
    }
   ],
   "source": [
    "!pip install pandas openpyxl"
   ]
  },
  {
   "cell_type": "code",
   "execution_count": 2,
   "outputs": [
    {
     "data": {
      "text/plain": "                timestamp                                              tasks  \\\n0 2023-08-24 13:29:14.587  \"QUANTITY-2-B\", \"BOTTOM-O\", \"TOUCH-K-K\", \"TOUC...   \n1 2023-08-24 13:43:33.112  \"NOTOUCH-G-G\", \"TOUCH-G-W\", \"TOUCH-G-K\", \"NOTO...   \n2 2023-08-24 13:49:28.987  \"QUANTITY-1-K\", \"QUANTITY-1-B\", \"BOTTOM-K\", \"T...   \n3 2023-08-24 13:54:45.847  \"QUANTITY-1-W\", \"QUANTITY-2-O\", \"NOTOUCH-G-K\",...   \n4 2023-08-24 14:02:42.970  \"BOTTOM-G\", \"BOTTOM-O\", \"NOTOUCH-K-K\", \"TOUCH-...   \n\n  player_name      a      b      c       d       e       f       g  ... g_3  \\\n0      Andrew  Green  Black  Green  Orange  Orange  Orange   Green  ... NaN   \n1      Andrew  Green  Black   Blue    Blue   White   Green   Black  ... NaN   \n2      Andrew  White  White  Black   White  Orange    Blue  Orange  ... NaN   \n3      Andrew   Blue  Green  Green   Green    Blue   Black    Blue  ... NaN   \n4      Andrew   Blue  White  Black   White   Black   White   Black  ... NaN   \n\n  h_3 i_3 j_3 k_3 l_3 m_3  n_3  score_3 bonus_3  \n0 NaN NaN NaN NaN NaN NaN  NaN      NaN     NaN  \n1 NaN NaN NaN NaN NaN NaN  NaN      NaN     NaN  \n2 NaN NaN NaN NaN NaN NaN  NaN      NaN     NaN  \n3 NaN NaN NaN NaN NaN NaN  NaN      NaN     NaN  \n4 NaN NaN NaN NaN NaN NaN  NaN      NaN     NaN  \n\n[5 rows x 70 columns]",
      "text/html": "<div>\n<style scoped>\n    .dataframe tbody tr th:only-of-type {\n        vertical-align: middle;\n    }\n\n    .dataframe tbody tr th {\n        vertical-align: top;\n    }\n\n    .dataframe thead th {\n        text-align: right;\n    }\n</style>\n<table border=\"1\" class=\"dataframe\">\n  <thead>\n    <tr style=\"text-align: right;\">\n      <th></th>\n      <th>timestamp</th>\n      <th>tasks</th>\n      <th>player_name</th>\n      <th>a</th>\n      <th>b</th>\n      <th>c</th>\n      <th>d</th>\n      <th>e</th>\n      <th>f</th>\n      <th>g</th>\n      <th>...</th>\n      <th>g_3</th>\n      <th>h_3</th>\n      <th>i_3</th>\n      <th>j_3</th>\n      <th>k_3</th>\n      <th>l_3</th>\n      <th>m_3</th>\n      <th>n_3</th>\n      <th>score_3</th>\n      <th>bonus_3</th>\n    </tr>\n  </thead>\n  <tbody>\n    <tr>\n      <th>0</th>\n      <td>2023-08-24 13:29:14.587</td>\n      <td>\"QUANTITY-2-B\", \"BOTTOM-O\", \"TOUCH-K-K\", \"TOUC...</td>\n      <td>Andrew</td>\n      <td>Green</td>\n      <td>Black</td>\n      <td>Green</td>\n      <td>Orange</td>\n      <td>Orange</td>\n      <td>Orange</td>\n      <td>Green</td>\n      <td>...</td>\n      <td>NaN</td>\n      <td>NaN</td>\n      <td>NaN</td>\n      <td>NaN</td>\n      <td>NaN</td>\n      <td>NaN</td>\n      <td>NaN</td>\n      <td>NaN</td>\n      <td>NaN</td>\n      <td>NaN</td>\n    </tr>\n    <tr>\n      <th>1</th>\n      <td>2023-08-24 13:43:33.112</td>\n      <td>\"NOTOUCH-G-G\", \"TOUCH-G-W\", \"TOUCH-G-K\", \"NOTO...</td>\n      <td>Andrew</td>\n      <td>Green</td>\n      <td>Black</td>\n      <td>Blue</td>\n      <td>Blue</td>\n      <td>White</td>\n      <td>Green</td>\n      <td>Black</td>\n      <td>...</td>\n      <td>NaN</td>\n      <td>NaN</td>\n      <td>NaN</td>\n      <td>NaN</td>\n      <td>NaN</td>\n      <td>NaN</td>\n      <td>NaN</td>\n      <td>NaN</td>\n      <td>NaN</td>\n      <td>NaN</td>\n    </tr>\n    <tr>\n      <th>2</th>\n      <td>2023-08-24 13:49:28.987</td>\n      <td>\"QUANTITY-1-K\", \"QUANTITY-1-B\", \"BOTTOM-K\", \"T...</td>\n      <td>Andrew</td>\n      <td>White</td>\n      <td>White</td>\n      <td>Black</td>\n      <td>White</td>\n      <td>Orange</td>\n      <td>Blue</td>\n      <td>Orange</td>\n      <td>...</td>\n      <td>NaN</td>\n      <td>NaN</td>\n      <td>NaN</td>\n      <td>NaN</td>\n      <td>NaN</td>\n      <td>NaN</td>\n      <td>NaN</td>\n      <td>NaN</td>\n      <td>NaN</td>\n      <td>NaN</td>\n    </tr>\n    <tr>\n      <th>3</th>\n      <td>2023-08-24 13:54:45.847</td>\n      <td>\"QUANTITY-1-W\", \"QUANTITY-2-O\", \"NOTOUCH-G-K\",...</td>\n      <td>Andrew</td>\n      <td>Blue</td>\n      <td>Green</td>\n      <td>Green</td>\n      <td>Green</td>\n      <td>Blue</td>\n      <td>Black</td>\n      <td>Blue</td>\n      <td>...</td>\n      <td>NaN</td>\n      <td>NaN</td>\n      <td>NaN</td>\n      <td>NaN</td>\n      <td>NaN</td>\n      <td>NaN</td>\n      <td>NaN</td>\n      <td>NaN</td>\n      <td>NaN</td>\n      <td>NaN</td>\n    </tr>\n    <tr>\n      <th>4</th>\n      <td>2023-08-24 14:02:42.970</td>\n      <td>\"BOTTOM-G\", \"BOTTOM-O\", \"NOTOUCH-K-K\", \"TOUCH-...</td>\n      <td>Andrew</td>\n      <td>Blue</td>\n      <td>White</td>\n      <td>Black</td>\n      <td>White</td>\n      <td>Black</td>\n      <td>White</td>\n      <td>Black</td>\n      <td>...</td>\n      <td>NaN</td>\n      <td>NaN</td>\n      <td>NaN</td>\n      <td>NaN</td>\n      <td>NaN</td>\n      <td>NaN</td>\n      <td>NaN</td>\n      <td>NaN</td>\n      <td>NaN</td>\n      <td>NaN</td>\n    </tr>\n  </tbody>\n</table>\n<p>5 rows × 70 columns</p>\n</div>"
     },
     "execution_count": 2,
     "metadata": {},
     "output_type": "execute_result"
    }
   ],
   "source": [
    "import pandas as pd\n",
    "\n",
    "# Read the Excel file\n",
    "file_path = 'dimension_play_log.xlsx'\n",
    "df = pd.read_excel(file_path, engine='openpyxl')\n",
    "\n",
    "df.columns = [col.lower().replace(' ', '_') for col in df.columns]\n",
    "\n",
    "\n",
    "# Check the duplicate columns and rename them\n",
    "cols = df.columns.tolist()\n",
    "seen = {}\n",
    "for idx, col in enumerate(cols):\n",
    "    if col in seen:\n",
    "        seen[col] += 1\n",
    "        cols[idx] = f\"{col}_{seen[col]}\"\n",
    "    else:\n",
    "        seen[col] = 0\n",
    "\n",
    "df.columns = cols\n",
    "\n",
    "# get rid of the period\n",
    "df.columns = [col.lower().replace('.', '_') for col in df.columns]\n",
    "# Display the DataFrame to verify\n",
    "df.head()\n"
   ],
   "metadata": {
    "collapsed": false,
    "ExecuteTime": {
     "end_time": "2023-08-24T22:30:01.175835Z",
     "start_time": "2023-08-24T22:30:00.116585Z"
    }
   },
   "id": "233ce3aafa2a2cbd"
  },
  {
   "cell_type": "code",
   "execution_count": 3,
   "outputs": [
    {
     "name": "stdout",
     "output_type": "stream",
     "text": [
      "['timestamp', 'tasks', 'player_name', 'a', 'b', 'c', 'd', 'e', 'f', 'g', 'h', 'i', 'j', 'k', 'l', 'm', 'n', 'score', 'bonus', 'player_name_1', 'a_1', 'b_1', 'c_1', 'd_1', 'e_1', 'f_1', 'g_1', 'h_1', 'i_1', 'j_1', 'k_1', 'l_1', 'm_1', 'n_1', 'score_1', 'bonus_1', 'player_name_2', 'a_2', 'b_2', 'c_2', 'd_2', 'e_2', 'f_2', 'g_2', 'h_2', 'i_2', 'j_2', 'k_2', 'l_2', 'm_2', 'n_2', 'score_2', 'bonus_2', 'player_name_3', 'a_3', 'b_3', 'c_3', 'd_3', 'e_3', 'f_3', 'g_3', 'h_3', 'i_3', 'j_3', 'k_3', 'l_3', 'm_3', 'n_3', 'score_3', 'bonus_3']\n"
     ]
    }
   ],
   "source": [
    "print(df.columns.tolist())"
   ],
   "metadata": {
    "collapsed": false,
    "ExecuteTime": {
     "end_time": "2023-08-24T22:30:01.176096Z",
     "start_time": "2023-08-24T22:30:01.173915Z"
    }
   },
   "id": "203379fe68af443e"
  },
  {
   "cell_type": "code",
   "execution_count": 4,
   "outputs": [],
   "source": [
    "# Melt the data into a player, turn, task list per row\n",
    "# List to store mini dataframes\n",
    "dfs = []\n",
    "\n",
    "# Split and transform for each player group\n",
    "for i in range(4):  # Here 4 is the number of player groups you have (0 to 3)\n",
    "    if i == 0:\n",
    "        prefix = ''\n",
    "    else:\n",
    "        prefix = f'_{i}'\n",
    "    \n",
    "    # Filter out rows where player name is empty\n",
    "    player_df = df[df[f'player_name{prefix}'] != '']\n",
    "\n",
    "    # Select columns for this player\n",
    "    cols = ['timestamp', 'tasks', f'player_name{prefix}', f'score{prefix}', f'bonus{prefix}'] + [f'{char}{prefix}' for char in ['a', 'b', 'c', 'd', 'e', 'f', 'g', 'h', 'i', 'j', 'k', 'l', 'm', 'n']]\n",
    "    \n",
    "    subset = player_df[cols]\n",
    "    \n",
    "    # Rename columns\n",
    "    new_cols = ['timestamp', 'tasks', 'name', 'score', 'bonus'] + list('abcdefghijklmn')\n",
    "    subset.columns = new_cols\n",
    "    \n",
    "    dfs.append(subset)\n",
    "\n",
    "# Combine all mini dataframes\n",
    "result = pd.concat(dfs, axis=0).reset_index(drop=True)\n",
    "\n",
    "# print(result)\n",
    "# print(result.iloc[40]) #get one row\n"
   ],
   "metadata": {
    "collapsed": false,
    "ExecuteTime": {
     "end_time": "2023-08-24T22:30:01.183230Z",
     "start_time": "2023-08-24T22:30:01.179915Z"
    }
   },
   "id": "49504a8c78eeef15"
  },
  {
   "cell_type": "code",
   "execution_count": 5,
   "outputs": [],
   "source": [
    "#drop all Nan rows by Name\n",
    "result = result[result['name'].notna()]\n"
   ],
   "metadata": {
    "collapsed": false,
    "ExecuteTime": {
     "end_time": "2023-08-24T22:30:01.187178Z",
     "start_time": "2023-08-24T22:30:01.185506Z"
    }
   },
   "id": "5817f9a121188d9"
  },
  {
   "cell_type": "code",
   "execution_count": 6,
   "outputs": [
    {
     "name": "stdout",
     "output_type": "stream",
     "text": [
      "<class 'pandas.core.frame.DataFrame'>\n"
     ]
    }
   ],
   "source": [
    "print(type(result))"
   ],
   "metadata": {
    "collapsed": false,
    "ExecuteTime": {
     "end_time": "2023-08-24T22:30:01.190794Z",
     "start_time": "2023-08-24T22:30:01.187830Z"
    }
   },
   "id": "6d3a8422ef830646"
  },
  {
   "cell_type": "code",
   "execution_count": 7,
   "outputs": [],
   "source": [
    "def row_to_json(row):\n",
    "    # For the dimensions\n",
    "    dimensions = [chr(i) for i in range(ord('a'), ord('n')+1)]  # List of all dimensions from 'a' to 'n'\n",
    "    dimension_data = {dim: str(row[dim]).upper() for dim in dimensions if not pd.isna(row[dim])}\n",
    "\n",
    "   # Split tasks into a list and strip away quotes and spaces\n",
    "    tasks_list = [task.strip().strip('\"') for task in row['tasks'].split(',')]\n",
    "\n",
    "    # Convert bonus to boolean and truncate score\n",
    "    bonus_bool = bool(row['bonus'])\n",
    "    score_int = int(row['score'])\n",
    "\n",
    "    # Construct the final dictionary\n",
    "    json_data = {\n",
    "        'name': row['name'],\n",
    "        'bonus': bonus_bool,\n",
    "        'score': score_int,\n",
    "        'tasks': tasks_list,\n",
    "        'dimension': dimension_data\n",
    "    }\n",
    "    \n",
    "    return json_data\n",
    "\n",
    "\n",
    "# Apply the function to each row\n",
    "json_list = result.apply(row_to_json, axis=1).tolist()\n",
    "\n"
   ],
   "metadata": {
    "collapsed": false,
    "ExecuteTime": {
     "end_time": "2023-08-24T22:30:01.211618Z",
     "start_time": "2023-08-24T22:30:01.194561Z"
    }
   },
   "id": "b73ba3bfaff107ee"
  },
  {
   "cell_type": "code",
   "execution_count": 8,
   "outputs": [],
   "source": [
    "import os\n",
    "import json\n",
    "\n",
    "# ... [The rest of your code to generate the json_list]\n",
    "\n",
    "# Ensure the 'test_cases' directory exists\n",
    "if not os.path.exists('test_cases'):\n",
    "    os.makedirs('test_cases')\n",
    "\n",
    "# Save each JSON object to a separate file in 'test_cases' directory\n",
    "for idx, json_obj in enumerate(json_list, start=1):\n",
    "    filename = os.path.join('test_cases', f\"TestCase{idx}.json\")\n",
    "    with open(filename, 'w') as file:\n",
    "        json.dump(json_obj, file, indent=2)  # Pretty print with 2-space indentation\n"
   ],
   "metadata": {
    "collapsed": false,
    "ExecuteTime": {
     "end_time": "2023-08-24T22:30:01.233104Z",
     "start_time": "2023-08-24T22:30:01.198503Z"
    }
   },
   "id": "d7abeeb7122880a8"
  },
  {
   "cell_type": "code",
   "execution_count": null,
   "outputs": [],
   "source": [],
   "metadata": {
    "collapsed": false
   },
   "id": "7a751009b20e6917"
  }
 ],
 "metadata": {
  "kernelspec": {
   "display_name": "Python 3",
   "language": "python",
   "name": "python3"
  },
  "language_info": {
   "codemirror_mode": {
    "name": "ipython",
    "version": 2
   },
   "file_extension": ".py",
   "mimetype": "text/x-python",
   "name": "python",
   "nbconvert_exporter": "python",
   "pygments_lexer": "ipython2",
   "version": "2.7.6"
  }
 },
 "nbformat": 4,
 "nbformat_minor": 5
}
