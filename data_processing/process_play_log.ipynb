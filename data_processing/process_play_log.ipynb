{
 "cells": [
  {
   "cell_type": "code",
   "execution_count": 2,
   "id": "initial_id",
   "metadata": {
    "collapsed": true,
    "ExecuteTime": {
     "end_time": "2023-08-24T21:14:39.552522Z",
     "start_time": "2023-08-24T21:14:29.881517Z"
    }
   },
   "outputs": [
    {
     "name": "stdout",
     "output_type": "stream",
     "text": [
      "Collecting pandas\r\n",
      "  Obtaining dependency information for pandas from https://files.pythonhosted.org/packages/6c/1c/689c9d99bc4e5d366a5fd871f0bcdee98a6581e240f96b78d2d08f103774/pandas-2.0.3-cp39-cp39-macosx_11_0_arm64.whl.metadata\r\n",
      "  Downloading pandas-2.0.3-cp39-cp39-macosx_11_0_arm64.whl.metadata (18 kB)\r\n",
      "Collecting openpyxl\r\n",
      "  Using cached openpyxl-3.1.2-py2.py3-none-any.whl (249 kB)\r\n",
      "Requirement already satisfied: python-dateutil>=2.8.2 in /Users/anieuwsma/Library/Mobile Documents/com~apple~CloudDocs/repositories/dimension/venv/lib/python3.9/site-packages (from pandas) (2.8.2)\r\n",
      "Collecting pytz>=2020.1 (from pandas)\r\n",
      "  Using cached pytz-2023.3-py2.py3-none-any.whl (502 kB)\r\n",
      "Collecting tzdata>=2022.1 (from pandas)\r\n",
      "  Using cached tzdata-2023.3-py2.py3-none-any.whl (341 kB)\r\n",
      "Collecting numpy>=1.20.3 (from pandas)\r\n",
      "  Obtaining dependency information for numpy>=1.20.3 from https://files.pythonhosted.org/packages/0f/a8/5057b97c395a710999b5697ffedd648caee82c24a29595952d26bd750155/numpy-1.25.2-cp39-cp39-macosx_11_0_arm64.whl.metadata\r\n",
      "  Downloading numpy-1.25.2-cp39-cp39-macosx_11_0_arm64.whl.metadata (5.6 kB)\r\n",
      "Collecting et-xmlfile (from openpyxl)\r\n",
      "  Using cached et_xmlfile-1.1.0-py3-none-any.whl (4.7 kB)\r\n",
      "Requirement already satisfied: six>=1.5 in /Users/anieuwsma/Library/Mobile Documents/com~apple~CloudDocs/repositories/dimension/venv/lib/python3.9/site-packages (from python-dateutil>=2.8.2->pandas) (1.16.0)\r\n",
      "Downloading pandas-2.0.3-cp39-cp39-macosx_11_0_arm64.whl (10.9 MB)\r\n",
      "\u001B[2K   \u001B[90m━━━━━━━━━━━━━━━━━━━━━━━━━━━━━━━━━━━━━━━━\u001B[0m \u001B[32m10.9/10.9 MB\u001B[0m \u001B[31m29.7 MB/s\u001B[0m eta \u001B[36m0:00:00\u001B[0m00:01\u001B[0m0:01\u001B[0m\r\n",
      "\u001B[?25hDownloading numpy-1.25.2-cp39-cp39-macosx_11_0_arm64.whl (14.0 MB)\r\n",
      "\u001B[2K   \u001B[90m━━━━━━━━━━━━━━━━━━━━━━━━━━━━━━━━━━━━━━━━\u001B[0m \u001B[32m14.0/14.0 MB\u001B[0m \u001B[31m30.8 MB/s\u001B[0m eta \u001B[36m0:00:00\u001B[0m00:01\u001B[0m00:01\u001B[0m\r\n",
      "\u001B[?25hInstalling collected packages: pytz, tzdata, numpy, et-xmlfile, pandas, openpyxl\r\n",
      "Successfully installed et-xmlfile-1.1.0 numpy-1.25.2 openpyxl-3.1.2 pandas-2.0.3 pytz-2023.3 tzdata-2023.3\r\n"
     ]
    }
   ],
   "source": [
    "!pip install pandas openpyxl"
   ]
  },
  {
   "cell_type": "code",
   "execution_count": 5,
   "outputs": [
    {
     "data": {
      "text/plain": "                timestamp                                              tasks  \\\n0 2023-08-24 13:29:14.587  \"QUANTITY-2-B\", \"NOTTOP-O\", \"TOUCH-K-K\", \"TOUC...   \n1 2023-08-24 13:43:33.112  \"NOTOUCH-G-G\", \"TOUCH-G-W\", \"TOUCH-G-K\", \"NOTO...   \n2 2023-08-24 13:49:28.987  \"QUANTITY-1-K\", \"QUANTITY-1-B\", \"NOTTOP-K\", \"T...   \n3 2023-08-24 13:54:45.847  \"QUANTITY-1-W\", \"QUANTITY-2-O\", \"NOTOUCH-G-K\",...   \n4 2023-08-24 14:02:42.970  \"NOTTOP-G\", \"NOTTOP-O\", \"NOTOUCH-K-K\", \"TOUCH-...   \n\n  player_name      a      b      c       d       e       f       g  ... g.3  \\\n0      Andrew  Green  Black  Green  Orange  Orange  Orange   Green  ... NaN   \n1      Andrew  Green  Black   Blue    Blue   White   Green   Black  ... NaN   \n2      Andrew  White  White  Black   White  Orange    Blue  Orange  ... NaN   \n3      Andrew   Blue  Green  Green   Green    Blue   Black    Blue  ... NaN   \n4      Andrew   Blue  White  Black   White   Black   White   Black  ... NaN   \n\n  h.3 i.3 j.3 k.3 l.3 m.3  n.3  score.3 bonus.3  \n0 NaN NaN NaN NaN NaN NaN  NaN      NaN     NaN  \n1 NaN NaN NaN NaN NaN NaN  NaN      NaN     NaN  \n2 NaN NaN NaN NaN NaN NaN  NaN      NaN     NaN  \n3 NaN NaN NaN NaN NaN NaN  NaN      NaN     NaN  \n4 NaN NaN NaN NaN NaN NaN  NaN      NaN     NaN  \n\n[5 rows x 70 columns]",
      "text/html": "<div>\n<style scoped>\n    .dataframe tbody tr th:only-of-type {\n        vertical-align: middle;\n    }\n\n    .dataframe tbody tr th {\n        vertical-align: top;\n    }\n\n    .dataframe thead th {\n        text-align: right;\n    }\n</style>\n<table border=\"1\" class=\"dataframe\">\n  <thead>\n    <tr style=\"text-align: right;\">\n      <th></th>\n      <th>timestamp</th>\n      <th>tasks</th>\n      <th>player_name</th>\n      <th>a</th>\n      <th>b</th>\n      <th>c</th>\n      <th>d</th>\n      <th>e</th>\n      <th>f</th>\n      <th>g</th>\n      <th>...</th>\n      <th>g.3</th>\n      <th>h.3</th>\n      <th>i.3</th>\n      <th>j.3</th>\n      <th>k.3</th>\n      <th>l.3</th>\n      <th>m.3</th>\n      <th>n.3</th>\n      <th>score.3</th>\n      <th>bonus.3</th>\n    </tr>\n  </thead>\n  <tbody>\n    <tr>\n      <th>0</th>\n      <td>2023-08-24 13:29:14.587</td>\n      <td>\"QUANTITY-2-B\", \"NOTTOP-O\", \"TOUCH-K-K\", \"TOUC...</td>\n      <td>Andrew</td>\n      <td>Green</td>\n      <td>Black</td>\n      <td>Green</td>\n      <td>Orange</td>\n      <td>Orange</td>\n      <td>Orange</td>\n      <td>Green</td>\n      <td>...</td>\n      <td>NaN</td>\n      <td>NaN</td>\n      <td>NaN</td>\n      <td>NaN</td>\n      <td>NaN</td>\n      <td>NaN</td>\n      <td>NaN</td>\n      <td>NaN</td>\n      <td>NaN</td>\n      <td>NaN</td>\n    </tr>\n    <tr>\n      <th>1</th>\n      <td>2023-08-24 13:43:33.112</td>\n      <td>\"NOTOUCH-G-G\", \"TOUCH-G-W\", \"TOUCH-G-K\", \"NOTO...</td>\n      <td>Andrew</td>\n      <td>Green</td>\n      <td>Black</td>\n      <td>Blue</td>\n      <td>Blue</td>\n      <td>White</td>\n      <td>Green</td>\n      <td>Black</td>\n      <td>...</td>\n      <td>NaN</td>\n      <td>NaN</td>\n      <td>NaN</td>\n      <td>NaN</td>\n      <td>NaN</td>\n      <td>NaN</td>\n      <td>NaN</td>\n      <td>NaN</td>\n      <td>NaN</td>\n      <td>NaN</td>\n    </tr>\n    <tr>\n      <th>2</th>\n      <td>2023-08-24 13:49:28.987</td>\n      <td>\"QUANTITY-1-K\", \"QUANTITY-1-B\", \"NOTTOP-K\", \"T...</td>\n      <td>Andrew</td>\n      <td>White</td>\n      <td>White</td>\n      <td>Black</td>\n      <td>White</td>\n      <td>Orange</td>\n      <td>Blue</td>\n      <td>Orange</td>\n      <td>...</td>\n      <td>NaN</td>\n      <td>NaN</td>\n      <td>NaN</td>\n      <td>NaN</td>\n      <td>NaN</td>\n      <td>NaN</td>\n      <td>NaN</td>\n      <td>NaN</td>\n      <td>NaN</td>\n      <td>NaN</td>\n    </tr>\n    <tr>\n      <th>3</th>\n      <td>2023-08-24 13:54:45.847</td>\n      <td>\"QUANTITY-1-W\", \"QUANTITY-2-O\", \"NOTOUCH-G-K\",...</td>\n      <td>Andrew</td>\n      <td>Blue</td>\n      <td>Green</td>\n      <td>Green</td>\n      <td>Green</td>\n      <td>Blue</td>\n      <td>Black</td>\n      <td>Blue</td>\n      <td>...</td>\n      <td>NaN</td>\n      <td>NaN</td>\n      <td>NaN</td>\n      <td>NaN</td>\n      <td>NaN</td>\n      <td>NaN</td>\n      <td>NaN</td>\n      <td>NaN</td>\n      <td>NaN</td>\n      <td>NaN</td>\n    </tr>\n    <tr>\n      <th>4</th>\n      <td>2023-08-24 14:02:42.970</td>\n      <td>\"NOTTOP-G\", \"NOTTOP-O\", \"NOTOUCH-K-K\", \"TOUCH-...</td>\n      <td>Andrew</td>\n      <td>Blue</td>\n      <td>White</td>\n      <td>Black</td>\n      <td>White</td>\n      <td>Black</td>\n      <td>White</td>\n      <td>Black</td>\n      <td>...</td>\n      <td>NaN</td>\n      <td>NaN</td>\n      <td>NaN</td>\n      <td>NaN</td>\n      <td>NaN</td>\n      <td>NaN</td>\n      <td>NaN</td>\n      <td>NaN</td>\n      <td>NaN</td>\n      <td>NaN</td>\n    </tr>\n  </tbody>\n</table>\n<p>5 rows × 70 columns</p>\n</div>"
     },
     "execution_count": 5,
     "metadata": {},
     "output_type": "execute_result"
    }
   ],
   "source": [
    "import pandas as pd\n",
    "\n",
    "# Read the Excel file\n",
    "file_path = 'dimension_play_log.xlsx'\n",
    "df = pd.read_excel(file_path, engine='openpyxl')\n",
    "\n",
    "df.columns = [col.lower().replace(' ', '_') for col in df.columns]\n",
    "\n",
    "\n",
    "# Check the duplicate columns and rename them\n",
    "cols = df.columns.tolist()\n",
    "seen = {}\n",
    "for idx, col in enumerate(cols):\n",
    "    if col in seen:\n",
    "        seen[col] += 1\n",
    "        cols[idx] = f\"{col}_{seen[col]}\"\n",
    "    else:\n",
    "        seen[col] = 0\n",
    "\n",
    "df.columns = cols\n",
    "\n",
    "# get rid of the period\n",
    "df.columns = [col.lower().replace('.', '_') for col in df.columns]\n",
    "# Display the DataFrame to verify\n",
    "df.head()\n"
   ],
   "metadata": {
    "collapsed": false,
    "ExecuteTime": {
     "end_time": "2023-08-24T21:26:34.406897Z",
     "start_time": "2023-08-24T21:26:34.358400Z"
    }
   },
   "id": "233ce3aafa2a2cbd"
  },
  {
   "cell_type": "code",
   "execution_count": 8,
   "outputs": [
    {
     "name": "stdout",
     "output_type": "stream",
     "text": [
      "['timestamp', 'tasks', 'player_name', 'a', 'b', 'c', 'd', 'e', 'f', 'g', 'h', 'i', 'j', 'k', 'l', 'm', 'n', 'score', 'bonus', 'player_name_1', 'a_1', 'b_1', 'c_1', 'd_1', 'e_1', 'f_1', 'g_1', 'h_1', 'i_1', 'j_1', 'k_1', 'l_1', 'm_1', 'n_1', 'score_1', 'bonus_1', 'player_name_2', 'a_2', 'b_2', 'c_2', 'd_2', 'e_2', 'f_2', 'g_2', 'h_2', 'i_2', 'j_2', 'k_2', 'l_2', 'm_2', 'n_2', 'score_2', 'bonus_2', 'player_name_3', 'a_3', 'b_3', 'c_3', 'd_3', 'e_3', 'f_3', 'g_3', 'h_3', 'i_3', 'j_3', 'k_3', 'l_3', 'm_3', 'n_3', 'score_3', 'bonus_3']\n"
     ]
    }
   ],
   "source": [
    "print(df.columns.tolist())"
   ],
   "metadata": {
    "collapsed": false,
    "ExecuteTime": {
     "end_time": "2023-08-24T21:30:06.772994Z",
     "start_time": "2023-08-24T21:30:06.769340Z"
    }
   },
   "id": "203379fe68af443e"
  },
  {
   "cell_type": "code",
   "execution_count": 9,
   "outputs": [
    {
     "name": "stdout",
     "output_type": "stream",
     "text": [
      "                 timestamp                                              tasks  \\\n",
      "0  2023-08-24 13:29:14.587  \"QUANTITY-2-B\", \"NOTTOP-O\", \"TOUCH-K-K\", \"TOUC...   \n",
      "1  2023-08-24 13:43:33.112  \"NOTOUCH-G-G\", \"TOUCH-G-W\", \"TOUCH-G-K\", \"NOTO...   \n",
      "2  2023-08-24 13:49:28.987  \"QUANTITY-1-K\", \"QUANTITY-1-B\", \"NOTTOP-K\", \"T...   \n",
      "3  2023-08-24 13:54:45.847  \"QUANTITY-1-W\", \"QUANTITY-2-O\", \"NOTOUCH-G-K\",...   \n",
      "4  2023-08-24 14:02:42.970  \"NOTTOP-G\", \"NOTTOP-O\", \"NOTOUCH-K-K\", \"TOUCH-...   \n",
      "..                     ...                                                ...   \n",
      "75 2023-08-24 15:50:53.870  \"QUANTITY-1-W\", \"QUANTITY-2-O\", \"TOUCH-B-B\", \"...   \n",
      "76 2023-08-24 15:54:19.995  \"QUANTITY-1-G\", \"QUANTITY-2-G\", \"NOTTOP-B\", \"N...   \n",
      "77 2023-08-24 15:57:04.084  \"QUANTITY-1-O\", \"TOUCH-O-W\", \"TOUCH-O-K\", \"NOT...   \n",
      "78 2023-08-24 15:59:42.983  \"NOTTOP-G\", \"NOTTOP-W\", \"NOTOUCH-O-O\", \"TOUCH-...   \n",
      "79 2023-08-24 16:01:32.730  \"QUANTITY-2-W\", \"NOTTOP-K\", \"NOTTOP-W\", \"NOTTO...   \n",
      "\n",
      "      name  score bonus      a      b      c       d       e       f       g  \\\n",
      "0   Andrew   11.0   1.0  Green  Black  Green  Orange  Orange  Orange   Green   \n",
      "1   Andrew    8.0   0.0  Green  Black   Blue    Blue   White   Green   Black   \n",
      "2   Andrew    9.0   0.0  White  White  Black   White  Orange    Blue  Orange   \n",
      "3   Andrew    6.0   0.0   Blue  Green  Green   Green    Blue   Black    Blue   \n",
      "4   Andrew   10.0   0.0   Blue  White  Black   White   Black   White   Black   \n",
      "..     ...    ...   ...    ...    ...    ...     ...     ...     ...     ...   \n",
      "75     NaN    NaN   NaN    NaN    NaN    NaN     NaN     NaN     NaN     NaN   \n",
      "76     NaN    NaN   NaN    NaN    NaN    NaN     NaN     NaN     NaN     NaN   \n",
      "77     NaN    NaN   NaN    NaN    NaN    NaN     NaN     NaN     NaN     NaN   \n",
      "78     NaN    NaN   NaN    NaN    NaN    NaN     NaN     NaN     NaN     NaN   \n",
      "79     NaN    NaN   NaN    NaN    NaN    NaN     NaN     NaN     NaN     NaN   \n",
      "\n",
      "         h      i       j       k       l      m      n  \n",
      "0    White    NaN    Blue     NaN    Blue    NaN  White  \n",
      "1   Orange    NaN   White     NaN  Orange    NaN    NaN  \n",
      "2      NaN  Green     NaN  Orange     NaN  Green  Green  \n",
      "3    White    NaN   White     NaN   Black    NaN    NaN  \n",
      "4   Orange    NaN  Orange     NaN  Orange    NaN    NaN  \n",
      "..     ...    ...     ...     ...     ...    ...    ...  \n",
      "75     NaN    NaN     NaN     NaN     NaN    NaN    NaN  \n",
      "76     NaN    NaN     NaN     NaN     NaN    NaN    NaN  \n",
      "77     NaN    NaN     NaN     NaN     NaN    NaN    NaN  \n",
      "78     NaN    NaN     NaN     NaN     NaN    NaN    NaN  \n",
      "79     NaN    NaN     NaN     NaN     NaN    NaN    NaN  \n",
      "\n",
      "[80 rows x 19 columns]\n"
     ]
    }
   ],
   "source": [
    "# Melt the data into a player, turn, task list per row\n",
    "# List to store mini dataframes\n",
    "dfs = []\n",
    "\n",
    "# Split and transform for each player group\n",
    "for i in range(4):  # Here 4 is the number of player groups you have (0 to 3)\n",
    "    if i == 0:\n",
    "        prefix = ''\n",
    "    else:\n",
    "        prefix = f'_{i}'\n",
    "    \n",
    "    # Filter out rows where player name is empty\n",
    "    player_df = df[df[f'player_name{prefix}'] != '']\n",
    "\n",
    "    # Select columns for this player\n",
    "    cols = ['timestamp', 'tasks', f'player_name{prefix}', f'score{prefix}', f'bonus{prefix}'] + [f'{char}{prefix}' for char in ['a', 'b', 'c', 'd', 'e', 'f', 'g', 'h', 'i', 'j', 'k', 'l', 'm', 'n']]\n",
    "    \n",
    "    subset = player_df[cols]\n",
    "    \n",
    "    # Rename columns\n",
    "    new_cols = ['timestamp', 'tasks', 'name', 'score', 'bonus'] + list('abcdefghijklmn')\n",
    "    subset.columns = new_cols\n",
    "    \n",
    "    dfs.append(subset)\n",
    "\n",
    "# Combine all mini dataframes\n",
    "result = pd.concat(dfs, axis=0).reset_index(drop=True)\n",
    "\n",
    "# print(result)\n",
    "# print(result.iloc[40]) #get one row\n"
   ],
   "metadata": {
    "collapsed": false,
    "ExecuteTime": {
     "end_time": "2023-08-24T21:35:02.195985Z",
     "start_time": "2023-08-24T21:35:02.192581Z"
    }
   },
   "id": "49504a8c78eeef15"
  },
  {
   "cell_type": "code",
   "execution_count": 25,
   "outputs": [],
   "source": [
    "#drop all Nan rows by Name\n",
    "result = result[result['name'].notna()]\n"
   ],
   "metadata": {
    "collapsed": false,
    "ExecuteTime": {
     "end_time": "2023-08-24T21:43:26.528357Z",
     "start_time": "2023-08-24T21:43:26.523535Z"
    }
   },
   "id": "5817f9a121188d9"
  },
  {
   "cell_type": "code",
   "execution_count": 26,
   "outputs": [
    {
     "name": "stdout",
     "output_type": "stream",
     "text": [
      "                 timestamp                                              tasks  \\\n",
      "0  2023-08-24 13:29:14.587  \"QUANTITY-2-B\", \"NOTTOP-O\", \"TOUCH-K-K\", \"TOUC...   \n",
      "1  2023-08-24 13:43:33.112  \"NOTOUCH-G-G\", \"TOUCH-G-W\", \"TOUCH-G-K\", \"NOTO...   \n",
      "2  2023-08-24 13:49:28.987  \"QUANTITY-1-K\", \"QUANTITY-1-B\", \"NOTTOP-K\", \"T...   \n",
      "3  2023-08-24 13:54:45.847  \"QUANTITY-1-W\", \"QUANTITY-2-O\", \"NOTOUCH-G-K\",...   \n",
      "4  2023-08-24 14:02:42.970  \"NOTTOP-G\", \"NOTTOP-O\", \"NOTOUCH-K-K\", \"TOUCH-...   \n",
      "5  2023-08-24 14:11:01.800  \"QUANTITY-1-G\", \"QUANTITY-1-O\", \"NOTOUCH-G-B\",...   \n",
      "6  2023-08-24 14:16:29.344  \"QUANTITY-2-G\", \"QUANTITY-2-B\", \"TOP-W\", \"NOTT...   \n",
      "7  2023-08-24 14:23:09.076  \"TOP-K\", \"TOP-B\", \"TOUCH-G-G\", \"TOUCH-B-B\", \"N...   \n",
      "8  2023-08-24 15:28:14.012  \"NOTTOP-B\", \"TOUCH-O-O\", \"TOUCH-W-W\", \"TOUCH-O...   \n",
      "9  2023-08-24 15:32:10.361  \"QUANTITY-2-W\", \"NOTOUCH-W-W\", \"TOUCH-G-O\", \"T...   \n",
      "10 2023-08-24 15:36:35.922  \"TOP-G\", \"TOUCH-O-O\", \"NOTOUCH-G-G\", \"TOUCH-K-...   \n",
      "11 2023-08-24 15:39:53.987  \"QUANTITY-1-K\", \"QUANTITY-1-B\", \"TOUCH-W-W\", \"...   \n",
      "12 2023-08-24 15:42:52.569  \"TOP-O\", \"NOTTOP-O\", \"NOTTOP-K\", \"TOUCH-B-W\", ...   \n",
      "13 2023-08-24 15:45:19.237  \"QUANTITY-2-B\", \"TOUCH-G-G\", \"TOUCH-B-B\", \"NOT...   \n",
      "14 2023-08-24 15:48:51.851  \"QUANTITY-2-K\", \"TOUCH-K-K\", \"TOUCH-G-W\", \"NOT...   \n",
      "15 2023-08-24 15:50:53.870  \"QUANTITY-1-W\", \"QUANTITY-2-O\", \"TOUCH-B-B\", \"...   \n",
      "16 2023-08-24 15:54:19.995  \"QUANTITY-1-G\", \"QUANTITY-2-G\", \"NOTTOP-B\", \"N...   \n",
      "17 2023-08-24 15:57:04.084  \"QUANTITY-1-O\", \"TOUCH-O-W\", \"TOUCH-O-K\", \"NOT...   \n",
      "18 2023-08-24 15:59:42.983  \"NOTTOP-G\", \"NOTTOP-W\", \"NOTOUCH-O-O\", \"TOUCH-...   \n",
      "19 2023-08-24 16:01:32.730  \"QUANTITY-2-W\", \"NOTTOP-K\", \"NOTTOP-W\", \"NOTTO...   \n",
      "20 2023-08-24 13:29:14.587  \"QUANTITY-2-B\", \"NOTTOP-O\", \"TOUCH-K-K\", \"TOUC...   \n",
      "21 2023-08-24 13:43:33.112  \"NOTOUCH-G-G\", \"TOUCH-G-W\", \"TOUCH-G-K\", \"NOTO...   \n",
      "22 2023-08-24 13:49:28.987  \"QUANTITY-1-K\", \"QUANTITY-1-B\", \"NOTTOP-K\", \"T...   \n",
      "23 2023-08-24 13:54:45.847  \"QUANTITY-1-W\", \"QUANTITY-2-O\", \"NOTOUCH-G-K\",...   \n",
      "24 2023-08-24 14:02:42.970  \"NOTTOP-G\", \"NOTTOP-O\", \"NOTOUCH-K-K\", \"TOUCH-...   \n",
      "25 2023-08-24 14:11:01.800  \"QUANTITY-1-G\", \"QUANTITY-1-O\", \"NOTOUCH-G-B\",...   \n",
      "26 2023-08-24 14:16:29.344  \"QUANTITY-2-G\", \"QUANTITY-2-B\", \"TOP-W\", \"NOTT...   \n",
      "27 2023-08-24 14:23:09.076  \"TOP-K\", \"TOP-B\", \"TOUCH-G-G\", \"TOUCH-B-B\", \"N...   \n",
      "28 2023-08-24 15:28:14.012  \"NOTTOP-B\", \"TOUCH-O-O\", \"TOUCH-W-W\", \"TOUCH-O...   \n",
      "29 2023-08-24 15:32:10.361  \"QUANTITY-2-W\", \"NOTOUCH-W-W\", \"TOUCH-G-O\", \"T...   \n",
      "30 2023-08-24 15:36:35.922  \"TOP-G\", \"TOUCH-O-O\", \"NOTOUCH-G-G\", \"TOUCH-K-...   \n",
      "31 2023-08-24 15:39:53.987  \"QUANTITY-1-K\", \"QUANTITY-1-B\", \"TOUCH-W-W\", \"...   \n",
      "32 2023-08-24 15:42:52.569  \"TOP-O\", \"NOTTOP-O\", \"NOTTOP-K\", \"TOUCH-B-W\", ...   \n",
      "33 2023-08-24 15:45:19.237  \"QUANTITY-2-B\", \"TOUCH-G-G\", \"TOUCH-B-B\", \"NOT...   \n",
      "34 2023-08-24 15:48:51.851  \"QUANTITY-2-K\", \"TOUCH-K-K\", \"TOUCH-G-W\", \"NOT...   \n",
      "35 2023-08-24 15:50:53.870  \"QUANTITY-1-W\", \"QUANTITY-2-O\", \"TOUCH-B-B\", \"...   \n",
      "36 2023-08-24 15:54:19.995  \"QUANTITY-1-G\", \"QUANTITY-2-G\", \"NOTTOP-B\", \"N...   \n",
      "37 2023-08-24 15:57:04.084  \"QUANTITY-1-O\", \"TOUCH-O-W\", \"TOUCH-O-K\", \"NOT...   \n",
      "38 2023-08-24 15:59:42.983  \"NOTTOP-G\", \"NOTTOP-W\", \"NOTOUCH-O-O\", \"TOUCH-...   \n",
      "39 2023-08-24 16:01:32.730  \"QUANTITY-2-W\", \"NOTTOP-K\", \"NOTTOP-W\", \"NOTTO...   \n",
      "\n",
      "       name  score bonus       a       b       c       d       e       f  \\\n",
      "0    Andrew   11.0   1.0   Green   Black   Green  Orange  Orange  Orange   \n",
      "1    Andrew    8.0   0.0   Green   Black    Blue    Blue   White   Green   \n",
      "2    Andrew    9.0   0.0   White   White   Black   White  Orange    Blue   \n",
      "3    Andrew    6.0   0.0    Blue   Green   Green   Green    Blue   Black   \n",
      "4    Andrew   10.0   0.0    Blue   White   Black   White   Black   White   \n",
      "5    Andrew    7.0   0.0   Black   White   Black    Blue    Blue    Blue   \n",
      "6    Andrew   10.0   0.0   Black   Green  Orange   Green  Orange   Black   \n",
      "7    Andrew   10.0   1.0  Orange   Green   Green   White   White  Orange   \n",
      "8    Andrew   11.0   1.0   Black    Blue  Orange  Orange  Orange    Blue   \n",
      "9    Andrew   10.0   0.0   Black  Orange   White   Black   Black   White   \n",
      "10   Andrew    9.0   0.0    Blue   Black  Orange  Orange  Orange   Black   \n",
      "11   Andrew   11.0   1.0   White   White   Black   White  Orange  Orange   \n",
      "12   Andrew   10.0   0.0    Blue   Green   Black   Black   Black    Blue   \n",
      "13   Andrew   11.0   1.0   Green  Orange  Orange   Green   Black   Green   \n",
      "14   Andrew    9.0   1.0   Black    Blue   White   Green   White   Black   \n",
      "15   Andrew    7.0   0.0  Orange   Green    Blue  Orange    Blue   White   \n",
      "16   Andrew   11.0   0.0   Black   Green   White   Green   White   Green   \n",
      "17   Andrew    9.0   0.0   Black    Blue   Green   White   Black  Orange   \n",
      "18   Andrew    9.0   0.0   Black    Blue  Orange    Blue  Orange    Blue   \n",
      "19   Andrew    9.0   0.0   Green   Green  Orange  Orange  Orange   Green   \n",
      "20  Jessica    9.0   0.0   Green   Black    Blue  Orange  Orange   Green   \n",
      "21  Jessica    7.0   0.0    Blue    Blue  Orange  Orange   Green    Blue   \n",
      "22  Jessica    5.0   0.0   White   Black   White    Blue  Orange   White   \n",
      "23  Jessica    8.0   0.0   Black   Black  Orange  Orange   Green    Blue   \n",
      "24  Jessica    3.0   0.0    Blue   Black   White    Blue   Black   White   \n",
      "25  Jessica    6.0   0.0   Black  Orange   Black    Blue   White   Black   \n",
      "26  Jessica    9.0   0.0    Blue   Green   Black   Black  Orange    Blue   \n",
      "27  Jessica   10.0   1.0  Orange   Green   Green   White   White   White   \n",
      "28  Jessica    8.0   0.0   White  Orange   Black    Blue   White   White   \n",
      "29  Jessica    7.0   0.0   White  Orange   Green   Black   Green  Orange   \n",
      "30  Jessica    8.0   0.0   Black  Orange  Orange    Blue   White   White   \n",
      "31  Jessica    9.0   0.0   White    Blue  Orange   Black  Orange   Black   \n",
      "32  Jessica    8.0   0.0   White   Green   White   White   Black   Black   \n",
      "33  Jessica    8.0   0.0   Green    Blue    Blue  Orange   Black   Black   \n",
      "34  Jessica    8.0   0.0   Green   Black    Blue    Blue   White   White   \n",
      "35  Jessica    6.0   0.0     NaN  Orange    Blue   White    Blue   Green   \n",
      "36  Jessica    9.0   0.0  Orange   Green   Green    Blue   Black  Orange   \n",
      "37  Jessica    9.0   0.0  Orange   White   White   White   Black    Blue   \n",
      "38  Jessica    8.0   0.0  Orange    Blue    Blue   Green   Black   White   \n",
      "39  Jessica    5.0   0.0  Orange    Blue    Blue   Green   White   White   \n",
      "\n",
      "         g       h       i       j       k       l       m       n  \n",
      "0    Green   White     NaN    Blue     NaN    Blue     NaN   White  \n",
      "1    Black  Orange     NaN   White     NaN  Orange     NaN     NaN  \n",
      "2   Orange     NaN   Green     NaN  Orange     NaN   Green   Green  \n",
      "3     Blue   White     NaN   White     NaN   Black     NaN     NaN  \n",
      "4    Black  Orange     NaN  Orange     NaN  Orange     NaN     NaN  \n",
      "5    Black     NaN   Green     NaN     NaN  Orange     NaN     NaN  \n",
      "6   Orange    Blue     NaN    Blue     NaN    Blue     NaN     NaN  \n",
      "7    Green    Blue     NaN   Black     NaN   Black     NaN     NaN  \n",
      "8     Blue   White     NaN   White     NaN   White     NaN   Green  \n",
      "9   Orange    Blue     NaN    Blue     NaN    Blue     NaN     NaN  \n",
      "10    Blue   White     NaN   White     NaN   White     NaN   Green  \n",
      "11    Blue   Green     NaN   Green     NaN   Green     NaN  Orange  \n",
      "12   White   Green     NaN   Green     NaN   White     NaN     NaN  \n",
      "13    Blue   White     NaN   White     NaN    Blue     NaN   Black  \n",
      "14    Blue     NaN     NaN  Orange     NaN     NaN    Blue     NaN  \n",
      "15    Blue     NaN   Black     NaN   Black     NaN     NaN     NaN  \n",
      "16   White     NaN  Orange     NaN  Orange     NaN  Orange   Black  \n",
      "17    Blue     NaN   White     NaN   Black     NaN   Green   White  \n",
      "18  Orange   Green     NaN   Green     NaN   Green     NaN   Black  \n",
      "19   White    Blue     NaN     NaN   White     NaN     NaN     NaN  \n",
      "20   Black   White     NaN   White     NaN    Blue     NaN    Blue  \n",
      "21   Green     NaN   White     NaN   White     NaN   White   Green  \n",
      "22   Black     NaN   Green     NaN    Blue     NaN   Green   Green  \n",
      "23   White     NaN   Black     NaN    Blue     NaN    Blue     NaN  \n",
      "24    Blue  Orange     NaN  Orange     NaN   Green     NaN   Black  \n",
      "25   Green    Blue     NaN     NaN     NaN     NaN     NaN     NaN  \n",
      "26   Green     NaN     NaN    Blue     NaN  Orange     NaN     NaN  \n",
      "27   Green    Blue     NaN   Black     NaN   Black     NaN     NaN  \n",
      "28  Orange     NaN   Green     NaN   Green     NaN   Green     NaN  \n",
      "29   White     NaN   Black     NaN    Blue     NaN    Blue     NaN  \n",
      "30    Blue     NaN   Green     NaN   Green     NaN   Green     NaN  \n",
      "31  Orange     NaN   White     NaN   Green     NaN   Green   Green  \n",
      "32   Black     NaN    Blue     NaN   Green     NaN   Green     NaN  \n",
      "33   Green   Green     NaN   Black     NaN   White     NaN     NaN  \n",
      "34   Black     NaN     NaN     NaN     NaN     NaN     NaN     NaN  \n",
      "35  Orange     NaN     NaN     NaN     NaN     NaN     NaN     NaN  \n",
      "36   Green   Black     NaN   White     NaN   Black     NaN  Orange  \n",
      "37     NaN     NaN     NaN     NaN    Blue     NaN   Black     NaN  \n",
      "38   White    Blue     NaN   Black     NaN   Black     NaN     NaN  \n",
      "39    Blue     NaN     NaN     NaN     NaN     NaN     NaN     NaN  \n"
     ]
    }
   ],
   "source": [
    "print(result)"
   ],
   "metadata": {
    "collapsed": false,
    "ExecuteTime": {
     "end_time": "2023-08-24T21:43:31.437610Z",
     "start_time": "2023-08-24T21:43:31.433487Z"
    }
   },
   "id": "6d3a8422ef830646"
  },
  {
   "cell_type": "code",
   "execution_count": null,
   "outputs": [],
   "source": [],
   "metadata": {
    "collapsed": false
   },
   "id": "b73ba3bfaff107ee"
  }
 ],
 "metadata": {
  "kernelspec": {
   "display_name": "Python 3",
   "language": "python",
   "name": "python3"
  },
  "language_info": {
   "codemirror_mode": {
    "name": "ipython",
    "version": 2
   },
   "file_extension": ".py",
   "mimetype": "text/x-python",
   "name": "python",
   "nbconvert_exporter": "python",
   "pygments_lexer": "ipython2",
   "version": "2.7.6"
  }
 },
 "nbformat": 4,
 "nbformat_minor": 5
}
