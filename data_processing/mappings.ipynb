{
 "cells": [
  {
   "cell_type": "code",
   "execution_count": 17,
   "outputs": [],
   "source": [
    "import csv\n",
    "import json\n",
    "\n",
    "geometry_data = []\n",
    "\n",
    "# Read CSV and populate the geometry_data list\n",
    "with open('geometry.csv', 'r', encoding='utf-8-sig') as csv_file:\n",
    "    csv_reader = csv.DictReader(csv_file)\n",
    "    \n",
    "    for row in csv_reader:\n",
    "        # Convert string \"null\" to actual None\n",
    "        for key, value in row.items():\n",
    "            if value == \"null\":\n",
    "                row[key] = None\n",
    "            # Convert specific fields to numbers\n",
    "            elif key in ['id', 'polarAngle', 'inclinationAngle', 'radialDistance']:\n",
    "                row[key] = float(value) if '.' in value else int(value)\n",
    "        geometry_data.append(row)\n",
    "\n",
    "# Nest the geometry_data list under the key \"geometry\"\n",
    "output = {'Geometry': geometry_data}\n",
    "\n",
    "# Write geometry_data to JSON\n",
    "with open('geometry.json', 'w', encoding='utf-8') as json_file:\n",
    "    json.dump(output, json_file, indent=4)\n"
   ],
   "metadata": {
    "collapsed": false,
    "ExecuteTime": {
     "end_time": "2023-08-20T03:25:07.700233Z",
     "start_time": "2023-08-20T03:25:07.695555Z"
    }
   },
   "id": "e26ce5f1ed551adc"
  },
  {
   "cell_type": "code",
   "execution_count": 16,
   "outputs": [],
   "source": [
    "#counting\n",
    "colors_data = []\n",
    "with open('colors.csv', 'r', encoding='utf-8-sig') as csv_file:\n",
    "    csv_reader = csv.DictReader(csv_file)\n",
    "    \n",
    "    for row in csv_reader:\n",
    "        # Convert string \"null\" to actual None\n",
    "        for key, value in row.items():\n",
    "            if value == \"null\":\n",
    "                row[key] = None\n",
    "            \n",
    "        colors_data.append(row)\n",
    "        \n",
    "output = {'Colors': colors_data}\n",
    "\n",
    "# Write geometry_data to JSON\n",
    "with open('colors.json', 'w', encoding='utf-8') as json_file:\n",
    "    json.dump(output, json_file, indent=4)"
   ],
   "metadata": {
    "collapsed": false,
    "ExecuteTime": {
     "end_time": "2023-08-20T03:24:18.855017Z",
     "start_time": "2023-08-20T03:24:18.851631Z"
    }
   },
   "id": "de7889de79ef4e18"
  },
  {
   "cell_type": "code",
   "execution_count": 15,
   "outputs": [],
   "source": [
    "import csv\n",
    "import json\n",
    "\n",
    "rules_data = []\n",
    "\n",
    "# Read CSV and populate the rules_data list\n",
    "with open('rules.csv', 'r', encoding='utf-8-sig') as csv_file:\n",
    "    csv_reader = csv.DictReader(csv_file)\n",
    "    \n",
    "    for row in csv_reader:\n",
    "        # Convert string \"null\" to actual None\n",
    "        for key, value in row.items():\n",
    "            if value == \"null\":\n",
    "                row[key] = None\n",
    "            # Convert specific fields to numbers\n",
    "            elif key in ['quantity']:\n",
    "                row[key] = float(value) if '.' in value else int(value)\n",
    "        rules_data.append(row)\n",
    "\n",
    "# Nest the rules_datalist under the key \"geometry\"\n",
    "output = {'Rules': rules_data}\n",
    "\n",
    "# Write geometry_data to JSON\n",
    "with open('rules.json', 'w', encoding='utf-8') as json_file:\n",
    "    json.dump(output, json_file, indent=4)"
   ],
   "metadata": {
    "collapsed": false,
    "ExecuteTime": {
     "end_time": "2023-08-20T03:22:18.885704Z",
     "start_time": "2023-08-20T03:22:18.877062Z"
    }
   },
   "id": "485a2f71c6cc8c88"
  }
 ],
 "metadata": {
  "kernelspec": {
   "display_name": "Python 3",
   "language": "python",
   "name": "python3"
  },
  "language_info": {
   "codemirror_mode": {
    "name": "ipython",
    "version": 2
   },
   "file_extension": ".py",
   "mimetype": "text/x-python",
   "name": "python",
   "nbconvert_exporter": "python",
   "pygments_lexer": "ipython2",
   "version": "2.7.6"
  }
 },
 "nbformat": 4,
 "nbformat_minor": 5
}
