{
 "cells": [
  {
   "cell_type": "code",
   "execution_count": 1,
   "outputs": [],
   "source": [
    "import os\n",
    "\n",
    "def rename_file(filename):\n",
    "    # Extract the test case number from the filename\n",
    "    testcase_num = int(filename.split('TestCase')[1].split('.json')[0])\n",
    "    \n",
    "    # Decide the player based on the test case number\n",
    "    if 1 <= testcase_num <= 20:\n",
    "        player = \"Andrew\"\n",
    "    else:\n",
    "        player = \"Jessica\"\n",
    "        testcase_num -= 20  # To reset testcase number for Jessica\n",
    "        \n",
    "    # Calculate the game number and round number\n",
    "    game_number = (testcase_num - 1) // 6 + 1\n",
    "    round_number = (testcase_num - 1) % 6 + 1\n",
    "    \n",
    "    # Construct the new filename\n",
    "    new_name = f\"TestCase_Player-{player}_Game-{game_number}_Round-{round_number}.json\"\n",
    "    return new_name\n",
    "\n",
    "   \n",
    "\n"
   ],
   "metadata": {
    "collapsed": false,
    "ExecuteTime": {
     "end_time": "2023-08-26T18:50:41.689537Z",
     "start_time": "2023-08-26T18:50:41.683832Z"
    }
   },
   "id": "de7889de79ef4e18"
  },
  {
   "cell_type": "code",
   "execution_count": 4,
   "outputs": [
    {
     "ename": "ValueError",
     "evalue": "invalid literal for int() with base 10: '_Player-Jessica_Game-1_Round-5'",
     "output_type": "error",
     "traceback": [
      "\u001B[0;31m---------------------------------------------------------------------------\u001B[0m",
      "\u001B[0;31mValueError\u001B[0m                                Traceback (most recent call last)",
      "Cell \u001B[0;32mIn[4], line 8\u001B[0m\n\u001B[1;32m      6\u001B[0m \u001B[38;5;28;01mfor\u001B[39;00m file \u001B[38;5;129;01min\u001B[39;00m files:\n\u001B[1;32m      7\u001B[0m    \u001B[38;5;28;01mif\u001B[39;00m file\u001B[38;5;241m.\u001B[39mstartswith(\u001B[38;5;124m\"\u001B[39m\u001B[38;5;124mTestCase\u001B[39m\u001B[38;5;124m\"\u001B[39m) \u001B[38;5;129;01mand\u001B[39;00m file\u001B[38;5;241m.\u001B[39mendswith(\u001B[38;5;124m\"\u001B[39m\u001B[38;5;124m.json\u001B[39m\u001B[38;5;124m\"\u001B[39m):\n\u001B[0;32m----> 8\u001B[0m        new_name \u001B[38;5;241m=\u001B[39m \u001B[43mrename_file\u001B[49m\u001B[43m(\u001B[49m\u001B[43mfile\u001B[49m\u001B[43m)\u001B[49m\n\u001B[1;32m      9\u001B[0m        \u001B[38;5;66;03m# Rename the file\u001B[39;00m\n\u001B[1;32m     10\u001B[0m        \u001B[38;5;28mprint\u001B[39m(\u001B[38;5;124mf\u001B[39m\u001B[38;5;124m\"\u001B[39m\u001B[38;5;132;01m{\u001B[39;00mfile\u001B[38;5;132;01m}\u001B[39;00m\u001B[38;5;124m -> \u001B[39m\u001B[38;5;132;01m{\u001B[39;00mnew_name\u001B[38;5;132;01m}\u001B[39;00m\u001B[38;5;124m\"\u001B[39m)\n",
      "Cell \u001B[0;32mIn[1], line 5\u001B[0m, in \u001B[0;36mrename_file\u001B[0;34m(filename)\u001B[0m\n\u001B[1;32m      3\u001B[0m \u001B[38;5;28;01mdef\u001B[39;00m \u001B[38;5;21mrename_file\u001B[39m(filename):\n\u001B[1;32m      4\u001B[0m     \u001B[38;5;66;03m# Extract the test case number from the filename\u001B[39;00m\n\u001B[0;32m----> 5\u001B[0m     testcase_num \u001B[38;5;241m=\u001B[39m \u001B[38;5;28;43mint\u001B[39;49m\u001B[43m(\u001B[49m\u001B[43mfilename\u001B[49m\u001B[38;5;241;43m.\u001B[39;49m\u001B[43msplit\u001B[49m\u001B[43m(\u001B[49m\u001B[38;5;124;43m'\u001B[39;49m\u001B[38;5;124;43mTestCase\u001B[39;49m\u001B[38;5;124;43m'\u001B[39;49m\u001B[43m)\u001B[49m\u001B[43m[\u001B[49m\u001B[38;5;241;43m1\u001B[39;49m\u001B[43m]\u001B[49m\u001B[38;5;241;43m.\u001B[39;49m\u001B[43msplit\u001B[49m\u001B[43m(\u001B[49m\u001B[38;5;124;43m'\u001B[39;49m\u001B[38;5;124;43m.json\u001B[39;49m\u001B[38;5;124;43m'\u001B[39;49m\u001B[43m)\u001B[49m\u001B[43m[\u001B[49m\u001B[38;5;241;43m0\u001B[39;49m\u001B[43m]\u001B[49m\u001B[43m)\u001B[49m\n\u001B[1;32m      7\u001B[0m     \u001B[38;5;66;03m# Decide the player based on the test case number\u001B[39;00m\n\u001B[1;32m      8\u001B[0m     \u001B[38;5;28;01mif\u001B[39;00m \u001B[38;5;241m1\u001B[39m \u001B[38;5;241m<\u001B[39m\u001B[38;5;241m=\u001B[39m testcase_num \u001B[38;5;241m<\u001B[39m\u001B[38;5;241m=\u001B[39m \u001B[38;5;241m20\u001B[39m:\n",
      "\u001B[0;31mValueError\u001B[0m: invalid literal for int() with base 10: '_Player-Jessica_Game-1_Round-5'"
     ]
    }
   ],
   "source": [
    " directory = \".test_cases\"  # Current directory, modify as needed\n",
    "    \n",
    "# List all files in the directory\n",
    "files = [f for f in os.listdir(directory) if os.path.isfile(os.path.join(directory, f))]\n",
    "\n",
    "for file in files:\n",
    "    if file.startswith(\"TestCase\") and file.endswith(\".json\"):\n",
    "        new_name = rename_file(file)\n",
    "        # Rename the file\n",
    "        os.rename(os.path.join(directory, file), os.path.join(directory, new_name))\n"
   ],
   "metadata": {
    "collapsed": false,
    "ExecuteTime": {
     "end_time": "2023-08-26T18:54:10.976764Z",
     "start_time": "2023-08-26T18:54:10.813358Z"
    }
   },
   "id": "6f82d3bcb3fdfdf6"
  }
 ],
 "metadata": {
  "kernelspec": {
   "display_name": "Python 3",
   "language": "python",
   "name": "python3"
  },
  "language_info": {
   "codemirror_mode": {
    "name": "ipython",
    "version": 2
   },
   "file_extension": ".py",
   "mimetype": "text/x-python",
   "name": "python",
   "nbconvert_exporter": "python",
   "pygments_lexer": "ipython2",
   "version": "2.7.6"
  }
 },
 "nbformat": 4,
 "nbformat_minor": 5
}
